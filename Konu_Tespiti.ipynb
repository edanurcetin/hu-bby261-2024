{
  "cells": [
    {
      "cell_type": "markdown",
      "metadata": {
        "id": "view-in-github",
        "colab_type": "text"
      },
      "source": [
        "<a href=\"https://colab.research.google.com/github/edanurcetin/hu-bby261-2024/blob/main/Konu_Tespiti.ipynb\" target=\"_parent\"><img src=\"https://colab.research.google.com/assets/colab-badge.svg\" alt=\"Open In Colab\"/></a>"
      ]
    },
    {
      "cell_type": "code",
      "execution_count": 4,
      "metadata": {
        "colab": {
          "base_uri": "https://localhost:8080/"
        },
        "id": "WDjABneY4VFZ",
        "outputId": "aa58ee89-206e-49a9-a8c7-a526a81850f6"
      },
      "outputs": [
        {
          "output_type": "stream",
          "name": "stdout",
          "text": [
            "Sonuç sonuc.txt dosyasına yazıldı.\n"
          ]
        }
      ],
      "source": [
        "# \"Dosyalama yöntemi ile konu tespiti.\"\n",
        "def dosyadan_metin_oku(dosya_adi):\n",
        "    with open(dosya_adi, \"r\") as dosya:\n",
        "        return dosya.read()\n",
        "\n",
        "def dosyaya_sonuc_yaz(dosya_adi, sonuc):\n",
        "    with open(dosya_adi, \"w\") as dosya:\n",
        "        dosya.write(sonuc)\n",
        "    print(f\"Sonuç {dosya_adi} dosyasına yazıldı.\")\n",
        "\n",
        "def dil_tespit_et(metin):\n",
        "    metin = metin.lower()\n",
        "\n",
        "    siyaset_kelimeleri = [\"seçim\", \"hükümet\", \"parti\", \"lider\", \"yasalar\"]\n",
        "    teknoloji_kelimeleri = [\"bilgisayar\", \"yazılım\", \"internet\", \"teknoloji\", \"yapay zeka\"]\n",
        "    spor_kelimeleri = [\"futbol\", \"basketbol\", \"maç\", \"oyun\", \"spor\"]\n",
        "    saglik_kelimeleri = [\"hastane\", \"doktor\", \"sağlık\", \"tedavi\", \"ilaç\"]\n",
        "    eglence_kelimeleri = [\"film\", \"müzik\", \"dizi\", \"şov\", \"konser\"]\n",
        "\n",
        "    siyaset_sayisi = 0\n",
        "    teknoloji_sayisi = 0\n",
        "    spor_sayisi = 0\n",
        "    saglik_sayisi = 0\n",
        "    eglence_sayisi = 0\n",
        "\n",
        "    kelimeler = metin.split()\n",
        "\n",
        "\n",
        "    for kelime in kelimeler:\n",
        "        if kelime in siyaset_kelimeleri:\n",
        "            siyaset_sayisi += 1\n",
        "        elif kelime in teknoloji_kelimeleri:\n",
        "            teknoloji_sayisi += 1\n",
        "        elif kelime in spor_kelimeleri:\n",
        "            spor_sayisi += 1\n",
        "        elif kelime in saglik_kelimeleri:\n",
        "            saglik_sayisi += 1\n",
        "        elif kelime in eglence_kelimeleri:\n",
        "            eglence_sayisi += 1\n",
        "\n",
        "\n",
        "    if siyaset_sayisi > max(teknoloji_sayisi, spor_sayisi, saglik_sayisi, eglence_sayisi):\n",
        "        return \"Siyaset\"\n",
        "    elif teknoloji_sayisi > max(siyaset_sayisi, spor_sayisi, saglik_sayisi, eglence_sayisi):\n",
        "        return \"Teknoloji\"\n",
        "    elif spor_sayisi > max(siyaset_sayisi, teknoloji_sayisi, saglik_sayisi, eglence_sayisi):\n",
        "        return \"Spor\"\n",
        "    elif saglik_sayisi > max(siyaset_sayisi, teknoloji_sayisi, spor_sayisi, eglence_sayisi):\n",
        "        return \"Sağlık\"\n",
        "    elif eglence_sayisi > max(siyaset_sayisi, teknoloji_sayisi, spor_sayisi, saglik_sayisi):\n",
        "        return \"Eğlence\"\n",
        "    else:\n",
        "        return \"Diğer konular\"\n",
        "\n",
        "\n",
        "def ana_program():\n",
        "    metin_dosyasi = \"metin.txt\"\n",
        "    sonuc_dosyasi = \"sonuc.txt\"\n",
        "\n",
        "\n",
        "    metin = dosyadan_metin_oku(metin_dosyasi)\n",
        "\n",
        "    if metin:\n",
        "\n",
        "        sonuc = dil_tespit_et(metin)\n",
        "\n",
        "\n",
        "        dosyaya_sonuc_yaz(sonuc_dosyasi, sonuc)\n",
        "\n",
        "\n",
        "ana_program()\n"
      ]
    }
  ],
  "metadata": {
    "colab": {
      "provenance": [],
      "authorship_tag": "ABX9TyPZ0LFImmMhxrTIhax6AsBo",
      "include_colab_link": true
    },
    "kernelspec": {
      "display_name": "Python 3",
      "name": "python3"
    },
    "language_info": {
      "name": "python"
    }
  },
  "nbformat": 4,
  "nbformat_minor": 0
}