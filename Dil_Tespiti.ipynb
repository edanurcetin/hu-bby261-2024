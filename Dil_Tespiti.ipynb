{
  "cells": [
    {
      "cell_type": "markdown",
      "metadata": {
        "id": "view-in-github",
        "colab_type": "text"
      },
      "source": [
        "<a href=\"https://colab.research.google.com/github/edanurcetin/hu-bby261-2024/blob/main/Dil_Tespiti.ipynb\" target=\"_parent\"><img src=\"https://colab.research.google.com/assets/colab-badge.svg\" alt=\"Open In Colab\"/></a>"
      ]
    },
    {
      "cell_type": "code",
      "execution_count": 1,
      "metadata": {
        "colab": {
          "base_uri": "https://localhost:8080/"
        },
        "id": "-R1wO5wBFEVo",
        "outputId": "e0faaf69-cbdc-421b-8651-4cc619652486"
      },
      "outputs": [
        {
          "output_type": "stream",
          "name": "stdout",
          "text": [
            "Bir metin girin: Futbol, on birer oyuncudan oluşan iki takım arasında, kendine özgü küresel bir topla oynanan takım sporudur. 21. yüzyıl itibarıyla 200'ün üzerinde ülkede 250 milyonu aşkın oyuncu tarafından oynanmakta olup dünyadaki en popüler spordur. Futbol maçları dikdörtgen şeklindeki, yapay veya gerçek çimle kaplı sahada oynanır. Sahanın kısa kenarlarının ortalarında birer kale bulunur. Oyuncuların amacı, temelde ayak olmak üzere eller ve kollar hariç vücudunun belli kısımlarını kullanarak topu karşı takımın kalesine sokarak gol atmaktır. İstisnai olarak her iki takımın kalesini koruyan kaleciler, ceza alanı olarak adlandırılan kendileri için belirlenmiş alanların sınırları dahilinde topa elle müdahale edebilmektedirler. Topun; sahanın uzun kenarlarından saha dışına çıkması durumunda taç atışı, kısa kenarlarından dışarı çıkması durumunda ise köşe veya aut atışı ile oyun yeniden başlar.\n",
            "Metin muhtemelen Turkish dilinde yazılmış.\n"
          ]
        }
      ],
      "source": [
        "# \"Dil tespiti için liste tabanlı yöntem kullanma.\"\n",
        "turkish_words = [\"ve\", \"bir\", \"bu\", \"de\", \"ama\", \"çok\", \"için\", \"olarak\", \"şu\", \"ne\"]\n",
        "english_words = [\"the\", \"and\", \"is\", \"in\", \"you\", \"this\", \"that\", \"with\", \"for\", \"as\"]\n",
        "german_words = [\"und\", \"der\", \"ist\", \"in\", \"sie\", \"das\", \"es\", \"mit\", \"auf\", \"von\"]\n",
        "french_words = [\"le\", \"et\", \"est\", \"dans\", \"avec\", \"il\", \"pour\", \"sur\", \"qui\", \"ce\"]\n",
        "spanish_words = [\"el\", \"la\", \"es\", \"en\", \"y\", \"para\", \"con\", \"que\", \"este\", \"una\"]\n",
        "\n",
        "\n",
        "scores = {\n",
        "    \"Turkish\": 0,\n",
        "    \"English\": 0,\n",
        "    \"German\": 0,\n",
        "    \"French\": 0,\n",
        "    \"Spanish\": 0\n",
        "}\n",
        "\n",
        "text = input(\"Bir metin girin: \").lower()\n",
        "words = text.split()\n",
        "\n",
        "\n",
        "for word in words:\n",
        "    if word in turkish_words:\n",
        "        scores[\"Turkish\"] += 1\n",
        "    if word in english_words:\n",
        "        scores[\"English\"] += 1\n",
        "    if word in german_words:\n",
        "        scores[\"German\"] += 1\n",
        "    if word in french_words:\n",
        "        scores[\"French\"] += 1\n",
        "    if word in spanish_words:\n",
        "        scores[\"Spanish\"] += 1\n",
        "\n",
        "detected_language = max(scores, key=scores.get)\n",
        "\n",
        "print(f\"Metin muhtemelen {detected_language} dilinde yazılmış.\")\n"
      ]
    }
  ],
  "metadata": {
    "colab": {
      "provenance": [],
      "authorship_tag": "ABX9TyOVytOqzaaFEVBsLb1XzPG0",
      "include_colab_link": true
    },
    "kernelspec": {
      "display_name": "Python 3",
      "name": "python3"
    },
    "language_info": {
      "name": "python"
    }
  },
  "nbformat": 4,
  "nbformat_minor": 0
}