{
  "nbformat": 4,
  "nbformat_minor": 0,
  "metadata": {
    "colab": {
      "provenance": [],
      "authorship_tag": "ABX9TyOyuLSJD9BKODEMaK7nf98r",
      "include_colab_link": true
    },
    "kernelspec": {
      "name": "python3",
      "display_name": "Python 3"
    },
    "language_info": {
      "name": "python"
    }
  },
  "cells": [
    {
      "cell_type": "markdown",
      "metadata": {
        "id": "view-in-github",
        "colab_type": "text"
      },
      "source": [
        "<a href=\"https://colab.research.google.com/github/edanurcetin/hu-bby261-2024/blob/main/Konu_Tespiti_with_library.ipynb\" target=\"_parent\"><img src=\"https://colab.research.google.com/assets/colab-badge.svg\" alt=\"Open In Colab\"/></a>"
      ]
    },
    {
      "cell_type": "code",
      "execution_count": null,
      "metadata": {
        "colab": {
          "base_uri": "https://localhost:8080/"
        },
        "id": "Z_bE6DqezUvz",
        "outputId": "71116254-0c93-40e6-deef-4a4577737a9b"
      },
      "outputs": [
        {
          "output_type": "stream",
          "name": "stdout",
          "text": [
            "Bir paragraflık metin girin: Futbol, on birer oyuncudan oluşan iki takım arasında, kendine özgü küresel bir topla oynanan takım sporudur. 21. yüzyıl itibarıyla 200'ün üzerinde ülkede 250 milyonu aşkın oyuncu tarafından oynanmakta olup dünyadaki en popüler spordur. Futbol maçları dikdörtgen şeklindeki, yapay veya gerçek çimle kaplı sahada oynanır. Sahanın kısa kenarlarının ortalarında birer kale bulunur. Oyuncuların amacı, temelde ayak olmak üzere eller ve kollar hariç vücudunun belli kısımlarını kullanarak topu karşı takımın kalesine sokarak gol atmaktır. İstisnai olarak her iki takımın kalesini koruyan kaleciler, ceza alanı olarak adlandırılan kendileri için belirlenmiş alanların sınırları dahilinde topa elle müdahale edebilmektedirler. Topun; sahanın uzun kenarlarından saha dışına çıkması durumunda taç atışı, kısa kenarlarından dışarı çıkması durumunda ise köşe veya aut atışı ile oyun yeniden başlar.\n",
            "Metnin konusu: Spor\n"
          ]
        }
      ],
      "source": [
        "# \"Sklearn kütüphanesi ile konu tespiti \"\n",
        "from sklearn.feature_extraction.text import TfidfVectorizer\n",
        "from sklearn.naive_bayes import MultinomialNB\n",
        "\n",
        "# Her kategori için örnek cümleler\n",
        "egitim_verisi = [\n",
        "    'Seçim sonuçları ve hükümet politikaları tartışıldı.',\n",
        "    'Yeni bilgisayar teknolojileri ve yapay zeka gelişiyor.',\n",
        "    'Futbol maçında heyecan doruktaydı.',\n",
        "    'Sağlık reformları ve hastanelerdeki yeni tedavi yöntemleri önemli.',\n",
        "    'Son çıkan filmler ve konser etkinlikleri eğlenceli olacak.',\n",
        "    'Altın tarihinde en yüksek fiyatla satıldı.',\n",
        "    'Koreli yazar \"Vejeteryan\" kitabı ile nobel edebiyat ödülü kazandı.'\n",
        "]\n",
        "\n",
        "# Bu cümlelerin hangi konuyla ilgili olduğunu belirtiyoruz\n",
        "egitim_etiketleri = ['Siyaset', 'Teknoloji', 'Spor', 'Sağlık', 'Eğlence','Ekonomi','Edebiyat']\n",
        "\n",
        "# TF-IDF vektörizer ile metni sayısal verilere dönüştürelim\n",
        "vectorizer = TfidfVectorizer()\n",
        "X_egitim = vectorizer.fit_transform(egitim_verisi)\n",
        "\n",
        "# Naive Bayes sınıflandırıcı modelini oluşturalım\n",
        "model = MultinomialNB()\n",
        "model.fit(X_egitim, egitim_etiketleri)\n",
        "\n",
        "metin = input(\"Bir paragraflık metin girin: \")\n",
        "\n",
        "# Kullanıcının girdiği metni TF-IDF ile dönüştürelim\n",
        "X_test = vectorizer.transform([metin])\n",
        "\n",
        "# Model ile tahmin yapalım\n",
        "tahmin = model.predict(X_test)\n",
        "\n",
        "# Sonucu ekrana yazdıralım\n",
        "print(f\"Metnin konusu: {tahmin[0]}\")\n"
      ]
    }
  ]
}