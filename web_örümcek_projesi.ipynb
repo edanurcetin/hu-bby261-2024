{
  "nbformat": 4,
  "nbformat_minor": 0,
  "metadata": {
    "colab": {
      "provenance": [],
      "authorship_tag": "ABX9TyPNDWfq8Uy4dPw7Jx2mUDLF",
      "include_colab_link": true
    },
    "kernelspec": {
      "name": "python3",
      "display_name": "Python 3"
    },
    "language_info": {
      "name": "python"
    },
    "widgets": {
      "application/vnd.jupyter.widget-state+json": {
        "6996da22f9064327803c1a858eb3c672": {
          "model_module": "@jupyter-widgets/controls",
          "model_name": "TextModel",
          "model_module_version": "1.5.0",
          "state": {
            "_dom_classes": [],
            "_model_module": "@jupyter-widgets/controls",
            "_model_module_version": "1.5.0",
            "_model_name": "TextModel",
            "_view_count": null,
            "_view_module": "@jupyter-widgets/controls",
            "_view_module_version": "1.5.0",
            "_view_name": "TextView",
            "continuous_update": true,
            "description": "Web Adresi:",
            "description_tooltip": null,
            "disabled": false,
            "layout": "IPY_MODEL_41d83c77d2b84568bd5d8e38d7d765c4",
            "placeholder": "​",
            "style": "IPY_MODEL_56a0563dd1f34bc7ae948b5536dfa098",
            "value": "https://www.izdiham.com/"
          }
        },
        "41d83c77d2b84568bd5d8e38d7d765c4": {
          "model_module": "@jupyter-widgets/base",
          "model_name": "LayoutModel",
          "model_module_version": "1.2.0",
          "state": {
            "_model_module": "@jupyter-widgets/base",
            "_model_module_version": "1.2.0",
            "_model_name": "LayoutModel",
            "_view_count": null,
            "_view_module": "@jupyter-widgets/base",
            "_view_module_version": "1.2.0",
            "_view_name": "LayoutView",
            "align_content": null,
            "align_items": null,
            "align_self": null,
            "border": null,
            "bottom": null,
            "display": null,
            "flex": null,
            "flex_flow": null,
            "grid_area": null,
            "grid_auto_columns": null,
            "grid_auto_flow": null,
            "grid_auto_rows": null,
            "grid_column": null,
            "grid_gap": null,
            "grid_row": null,
            "grid_template_areas": null,
            "grid_template_columns": null,
            "grid_template_rows": null,
            "height": null,
            "justify_content": null,
            "justify_items": null,
            "left": null,
            "margin": null,
            "max_height": null,
            "max_width": null,
            "min_height": null,
            "min_width": null,
            "object_fit": null,
            "object_position": null,
            "order": null,
            "overflow": null,
            "overflow_x": null,
            "overflow_y": null,
            "padding": null,
            "right": null,
            "top": null,
            "visibility": null,
            "width": null
          }
        },
        "56a0563dd1f34bc7ae948b5536dfa098": {
          "model_module": "@jupyter-widgets/controls",
          "model_name": "DescriptionStyleModel",
          "model_module_version": "1.5.0",
          "state": {
            "_model_module": "@jupyter-widgets/controls",
            "_model_module_version": "1.5.0",
            "_model_name": "DescriptionStyleModel",
            "_view_count": null,
            "_view_module": "@jupyter-widgets/base",
            "_view_module_version": "1.2.0",
            "_view_name": "StyleView",
            "description_width": ""
          }
        },
        "6b9975d02911446b98fc93e2322599fd": {
          "model_module": "@jupyter-widgets/controls",
          "model_name": "IntSliderModel",
          "model_module_version": "1.5.0",
          "state": {
            "_dom_classes": [],
            "_model_module": "@jupyter-widgets/controls",
            "_model_module_version": "1.5.0",
            "_model_name": "IntSliderModel",
            "_view_count": null,
            "_view_module": "@jupyter-widgets/controls",
            "_view_module_version": "1.5.0",
            "_view_name": "IntSliderView",
            "continuous_update": true,
            "description": "Seviye:",
            "description_tooltip": null,
            "disabled": false,
            "layout": "IPY_MODEL_39d96e064ece46f6ab6822d22640d2bf",
            "max": 10,
            "min": 1,
            "orientation": "horizontal",
            "readout": true,
            "readout_format": "d",
            "step": 1,
            "style": "IPY_MODEL_4d5ba935f2734c3f87610d2adf95d798",
            "value": 4
          }
        },
        "39d96e064ece46f6ab6822d22640d2bf": {
          "model_module": "@jupyter-widgets/base",
          "model_name": "LayoutModel",
          "model_module_version": "1.2.0",
          "state": {
            "_model_module": "@jupyter-widgets/base",
            "_model_module_version": "1.2.0",
            "_model_name": "LayoutModel",
            "_view_count": null,
            "_view_module": "@jupyter-widgets/base",
            "_view_module_version": "1.2.0",
            "_view_name": "LayoutView",
            "align_content": null,
            "align_items": null,
            "align_self": null,
            "border": null,
            "bottom": null,
            "display": null,
            "flex": null,
            "flex_flow": null,
            "grid_area": null,
            "grid_auto_columns": null,
            "grid_auto_flow": null,
            "grid_auto_rows": null,
            "grid_column": null,
            "grid_gap": null,
            "grid_row": null,
            "grid_template_areas": null,
            "grid_template_columns": null,
            "grid_template_rows": null,
            "height": null,
            "justify_content": null,
            "justify_items": null,
            "left": null,
            "margin": null,
            "max_height": null,
            "max_width": null,
            "min_height": null,
            "min_width": null,
            "object_fit": null,
            "object_position": null,
            "order": null,
            "overflow": null,
            "overflow_x": null,
            "overflow_y": null,
            "padding": null,
            "right": null,
            "top": null,
            "visibility": null,
            "width": null
          }
        },
        "4d5ba935f2734c3f87610d2adf95d798": {
          "model_module": "@jupyter-widgets/controls",
          "model_name": "SliderStyleModel",
          "model_module_version": "1.5.0",
          "state": {
            "_model_module": "@jupyter-widgets/controls",
            "_model_module_version": "1.5.0",
            "_model_name": "SliderStyleModel",
            "_view_count": null,
            "_view_module": "@jupyter-widgets/base",
            "_view_module_version": "1.2.0",
            "_view_name": "StyleView",
            "description_width": "",
            "handle_color": null
          }
        },
        "94f14390d5574add971a0f691e9aa94a": {
          "model_module": "@jupyter-widgets/controls",
          "model_name": "ButtonModel",
          "model_module_version": "1.5.0",
          "state": {
            "_dom_classes": [],
            "_model_module": "@jupyter-widgets/controls",
            "_model_module_version": "1.5.0",
            "_model_name": "ButtonModel",
            "_view_count": null,
            "_view_module": "@jupyter-widgets/controls",
            "_view_module_version": "1.5.0",
            "_view_name": "ButtonView",
            "button_style": "",
            "description": "Başlat",
            "disabled": false,
            "icon": "",
            "layout": "IPY_MODEL_e27d72ee08bc46eb9467817952d4a683",
            "style": "IPY_MODEL_a94184cb73db4cf29139e60f85b768c0",
            "tooltip": ""
          }
        },
        "e27d72ee08bc46eb9467817952d4a683": {
          "model_module": "@jupyter-widgets/base",
          "model_name": "LayoutModel",
          "model_module_version": "1.2.0",
          "state": {
            "_model_module": "@jupyter-widgets/base",
            "_model_module_version": "1.2.0",
            "_model_name": "LayoutModel",
            "_view_count": null,
            "_view_module": "@jupyter-widgets/base",
            "_view_module_version": "1.2.0",
            "_view_name": "LayoutView",
            "align_content": null,
            "align_items": null,
            "align_self": null,
            "border": null,
            "bottom": null,
            "display": null,
            "flex": null,
            "flex_flow": null,
            "grid_area": null,
            "grid_auto_columns": null,
            "grid_auto_flow": null,
            "grid_auto_rows": null,
            "grid_column": null,
            "grid_gap": null,
            "grid_row": null,
            "grid_template_areas": null,
            "grid_template_columns": null,
            "grid_template_rows": null,
            "height": null,
            "justify_content": null,
            "justify_items": null,
            "left": null,
            "margin": null,
            "max_height": null,
            "max_width": null,
            "min_height": null,
            "min_width": null,
            "object_fit": null,
            "object_position": null,
            "order": null,
            "overflow": null,
            "overflow_x": null,
            "overflow_y": null,
            "padding": null,
            "right": null,
            "top": null,
            "visibility": null,
            "width": null
          }
        },
        "a94184cb73db4cf29139e60f85b768c0": {
          "model_module": "@jupyter-widgets/controls",
          "model_name": "ButtonStyleModel",
          "model_module_version": "1.5.0",
          "state": {
            "_model_module": "@jupyter-widgets/controls",
            "_model_module_version": "1.5.0",
            "_model_name": "ButtonStyleModel",
            "_view_count": null,
            "_view_module": "@jupyter-widgets/base",
            "_view_module_version": "1.2.0",
            "_view_name": "StyleView",
            "button_color": null,
            "font_weight": ""
          }
        }
      }
    }
  },
  "cells": [
    {
      "cell_type": "markdown",
      "metadata": {
        "id": "view-in-github",
        "colab_type": "text"
      },
      "source": [
        "<a href=\"https://colab.research.google.com/github/edanurcetin/hu-bby261-2025/blob/main/web_%C3%B6r%C3%BCmcek_projesi.ipynb\" target=\"_parent\"><img src=\"https://colab.research.google.com/assets/colab-badge.svg\" alt=\"Open In Colab\"/></a>"
      ]
    },
    {
      "cell_type": "code",
      "source": [
        "import ipywidgets as widgets\n",
        "import requests\n",
        "from bs4 import BeautifulSoup\n",
        "\n",
        "\n",
        "web_adresi = widgets.Text(value=\"\", description='Web Adresi:')\n",
        "display(web_adresi)\n",
        "\n",
        "seviye_sec = widgets.IntSlider(min=1, max=10, step=1, value=3, description='Seviye:')\n",
        "display(seviye_sec)\n",
        "\n",
        "gonder_dugmesi = widgets.Button(description='Başlat')\n",
        "display(gonder_dugmesi)\n",
        "\n",
        "\n",
        "def dosyaya_yaz(url, seviye, sayfa_basligi):\n",
        "    dosya = open(\"gelen_sonuclar.txt\", \"a\")\n",
        "    dosya.write(f\"Seviye: {seviye} - URL: {url} - Başlık: {sayfa_basligi}\\n\")\n",
        "    dosya.close()\n",
        "\n",
        "\n",
        "def baglantilari_bul(url, seviye):\n",
        "    if seviye == 0:\n",
        "        return\n",
        "    print(f\"Tarama yapılan URL: {url}, Seviye: {seviye}\")\n",
        "\n",
        "\n",
        "    cevap = requests.get(url)\n",
        "    analiz = BeautifulSoup(cevap.content, \"html.parser\")\n",
        "\n",
        "    sayfa_basligi = analiz.title.string\n",
        "    dosyaya_yaz(url, seviye, sayfa_basligi)\n",
        "\n",
        "    ilk_baglanti = analiz.find('a')\n",
        "    if ilk_baglanti:\n",
        "        yeni_url = ilk_baglanti.get('href')\n",
        "\n",
        "\n",
        "def butona_tiklama(b):\n",
        "    url = web_adresi.value\n",
        "\n",
        "    if not url.startswith(('http://', 'https://')):\n",
        "        print(\"Lütfen geçerli bir URL girin. Örneğin: https://www.izdiham.com/\")\n",
        "        return\n",
        "\n",
        "    seviye = seviye_sec.value\n",
        "    baglantilari_bul(url, seviye)\n",
        "    print(f\"Tüm sonuçlar 'gelen_sonuclar.txt' dosyasına yazıldı.\")\n",
        "\n",
        "gonder_dugmesi.on_click(butona_tiklama)\n"
      ],
      "metadata": {
        "colab": {
          "base_uri": "https://localhost:8080/",
          "height": 218,
          "referenced_widgets": [
            "6996da22f9064327803c1a858eb3c672",
            "41d83c77d2b84568bd5d8e38d7d765c4",
            "56a0563dd1f34bc7ae948b5536dfa098",
            "6b9975d02911446b98fc93e2322599fd",
            "39d96e064ece46f6ab6822d22640d2bf",
            "4d5ba935f2734c3f87610d2adf95d798",
            "94f14390d5574add971a0f691e9aa94a",
            "e27d72ee08bc46eb9467817952d4a683",
            "a94184cb73db4cf29139e60f85b768c0"
          ]
        },
        "id": "U3h8R3sxxKUi",
        "outputId": "e108821a-6420-4e6d-c2ea-74ce5a3a7678"
      },
      "execution_count": null,
      "outputs": [
        {
          "output_type": "display_data",
          "data": {
            "text/plain": [
              "Text(value='', description='Web Adresi:')"
            ],
            "application/vnd.jupyter.widget-view+json": {
              "version_major": 2,
              "version_minor": 0,
              "model_id": "6996da22f9064327803c1a858eb3c672"
            }
          },
          "metadata": {}
        },
        {
          "output_type": "display_data",
          "data": {
            "text/plain": [
              "IntSlider(value=3, description='Seviye:', max=10, min=1)"
            ],
            "application/vnd.jupyter.widget-view+json": {
              "version_major": 2,
              "version_minor": 0,
              "model_id": "6b9975d02911446b98fc93e2322599fd"
            }
          },
          "metadata": {}
        },
        {
          "output_type": "display_data",
          "data": {
            "text/plain": [
              "Button(description='Başlat', style=ButtonStyle())"
            ],
            "application/vnd.jupyter.widget-view+json": {
              "version_major": 2,
              "version_minor": 0,
              "model_id": "94f14390d5574add971a0f691e9aa94a"
            }
          },
          "metadata": {}
        },
        {
          "output_type": "stream",
          "name": "stdout",
          "text": [
            "Tarama yapılan URL: https://www.izdiham.com/, Seviye: 3\n",
            "Tüm sonuçlar 'gelen_sonuclar.txt' dosyasına yazıldı.\n",
            "Tarama yapılan URL: https://www.izdiham.com/, Seviye: 3\n",
            "Tüm sonuçlar 'gelen_sonuclar.txt' dosyasına yazıldı.\n",
            "Tarama yapılan URL: https://www.izdiham.com/, Seviye: 4\n",
            "Tüm sonuçlar 'gelen_sonuclar.txt' dosyasına yazıldı.\n"
          ]
        }
      ]
    }
  ]
}