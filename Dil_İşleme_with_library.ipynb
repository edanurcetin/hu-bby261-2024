{
  "nbformat": 4,
  "nbformat_minor": 0,
  "metadata": {
    "colab": {
      "provenance": [],
      "authorship_tag": "ABX9TyPx0dVELW3JoePuZ5Zh0Z2C",
      "include_colab_link": true
    },
    "kernelspec": {
      "name": "python3",
      "display_name": "Python 3"
    },
    "language_info": {
      "name": "python"
    }
  },
  "cells": [
    {
      "cell_type": "markdown",
      "metadata": {
        "id": "view-in-github",
        "colab_type": "text"
      },
      "source": [
        "<a href=\"https://colab.research.google.com/github/edanurcetin/hu-bby261-2024/blob/main/Dil_%C4%B0%C5%9Fleme_with_library.ipynb\" target=\"_parent\"><img src=\"https://colab.research.google.com/assets/colab-badge.svg\" alt=\"Open In Colab\"/></a>"
      ]
    },
    {
      "cell_type": "code",
      "source": [
        "#\" Langdetect kütüphanesi ie dil tespiti yapmak.\""
      ],
      "metadata": {
        "id": "Su5Iolq-4Vc3"
      },
      "execution_count": null,
      "outputs": []
    },
    {
      "cell_type": "code",
      "source": [
        "pip install langdetect"
      ],
      "metadata": {
        "colab": {
          "base_uri": "https://localhost:8080/"
        },
        "id": "6SaW5uSU-jrS",
        "outputId": "b7a452db-d306-4d25-9975-a5a88baa69cd"
      },
      "execution_count": null,
      "outputs": [
        {
          "output_type": "stream",
          "name": "stdout",
          "text": [
            "Collecting langdetect\n",
            "  Downloading langdetect-1.0.9.tar.gz (981 kB)\n",
            "\u001b[?25l     \u001b[90m━━━━━━━━━━━━━━━━━━━━━━━━━━━━━━━━━━━━━━━━\u001b[0m \u001b[32m0.0/981.5 kB\u001b[0m \u001b[31m?\u001b[0m eta \u001b[36m-:--:--\u001b[0m\r\u001b[2K     \u001b[91m━━━━━━━━━\u001b[0m\u001b[90m╺\u001b[0m\u001b[90m━━━━━━━━━━━━━━━━━━━━━━━━━━━━━━\u001b[0m \u001b[32m225.3/981.5 kB\u001b[0m \u001b[31m6.5 MB/s\u001b[0m eta \u001b[36m0:00:01\u001b[0m\r\u001b[2K     \u001b[91m━━━━━━━━━━━━━━━━━━━━━━━━━━━━━━━━━━━━━━━\u001b[0m\u001b[91m╸\u001b[0m \u001b[32m972.8/981.5 kB\u001b[0m \u001b[31m16.3 MB/s\u001b[0m eta \u001b[36m0:00:01\u001b[0m\r\u001b[2K     \u001b[90m━━━━━━━━━━━━━━━━━━━━━━━━━━━━━━━━━━━━━━━━\u001b[0m \u001b[32m981.5/981.5 kB\u001b[0m \u001b[31m12.8 MB/s\u001b[0m eta \u001b[36m0:00:00\u001b[0m\n",
            "\u001b[?25h  Preparing metadata (setup.py) ... \u001b[?25l\u001b[?25hdone\n",
            "Requirement already satisfied: six in /usr/local/lib/python3.10/dist-packages (from langdetect) (1.16.0)\n",
            "Building wheels for collected packages: langdetect\n",
            "  Building wheel for langdetect (setup.py) ... \u001b[?25l\u001b[?25hdone\n",
            "  Created wheel for langdetect: filename=langdetect-1.0.9-py3-none-any.whl size=993222 sha256=a184a6a3ac9a92798bfd9cc4efc5902b5b4944024f544ee3584725fd1d79ae46\n",
            "  Stored in directory: /root/.cache/pip/wheels/95/03/7d/59ea870c70ce4e5a370638b5462a7711ab78fba2f655d05106\n",
            "Successfully built langdetect\n",
            "Installing collected packages: langdetect\n",
            "Successfully installed langdetect-1.0.9\n"
          ]
        }
      ]
    },
    {
      "cell_type": "code",
      "execution_count": null,
      "metadata": {
        "colab": {
          "base_uri": "https://localhost:8080/"
        },
        "id": "JXQKfgBj-Llx",
        "outputId": "db4ce70b-b259-43fd-f9ac-fc7708b9637b"
      },
      "outputs": [
        {
          "output_type": "stream",
          "name": "stdout",
          "text": [
            "Metni girin: Houston, 30 Ağustos 1836 tarihinde arazi yatırımcıları tarafından Buffalo Bayou ve White Oak Bayou'nun (günümüzde Allen's Landing olarak bilinen nokta) birleştiği yerde kuruldu ve 5 Haziran 1837 tarihinde şehir olarak birleştirildi.[3][4] Şehir adını, Teksas Cumhuriyeti'nin başkanı olan ve Allen's Landing'in 25 mil (40 km) doğusundaki San Jacinto Savaşı'nda Teksas'ın Meksika'dan bağımsızlığını kazanan eski General Sam Houston'dan aldı. 1830'ların sonlarında kısa bir süre Teksas Cumhuriyeti'nin başkenti olarak hizmet verdikten sonra Houston, 19. yüzyılın geri kalanında istikrarlı bir şekilde büyüyerek bölgesel bir ticaret merkezi haline geldi.[5\n",
            "Metnin dili: Türkçe\n"
          ]
        }
      ],
      "source": [
        "from langdetect import detect\n",
        "\n",
        "\n",
        "def dil_tespit_et(metin):\n",
        "\n",
        "    dil = detect(metin)\n",
        "\n",
        "    if dil == 'tr':\n",
        "        return \"Türkçe\"\n",
        "    elif dil == 'en':\n",
        "        return \"İngilizce\"\n",
        "    elif dil == 'de':\n",
        "        return \"Almanca\"\n",
        "    elif dil == 'fr':\n",
        "        return \"Fransızca\"\n",
        "    elif dil == 'es':\n",
        "        return \"İspanyolca\"\n",
        "    else:\n",
        "        return \"Diğer\"\n",
        "\n",
        "metin = input(\"Metni girin: \")\n",
        "\n",
        "\n",
        "sonuc = dil_tespit_et(metin)\n",
        "print(f\"Metnin dili: {sonuc}\")\n"
      ]
    }
  ]
}